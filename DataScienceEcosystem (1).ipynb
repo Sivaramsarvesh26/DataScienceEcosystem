{
  "metadata": {
    "language_info": {
      "name": ""
    },
    "kernelspec": {
      "name": "python",
      "display_name": "Python (Pyodide)",
      "language": "python"
    }
  },
  "nbformat_minor": 4,
  "nbformat": 4,
  "cells": [
    {
      "cell_type": "markdown",
      "source": "# Data Science Tools and Ecosystem",
      "metadata": {}
    },
    {
      "cell_type": "markdown",
      "source": "In tis notebook,Data Science Tools and Ecosystem are summarized.",
      "metadata": {}
    },
    {
      "cell_type": "markdown",
      "source": "Some of the  popular languages that Data Scientits use are:\n\n1.Python\n\n2.R Programming\n\n3.Scala\n\n4.SQL",
      "metadata": {}
    },
    {
      "cell_type": "markdown",
      "source": "Some of the commonly used libraries used by Data Scientists include:\n\n1.Pandas\n\n2.Numpy\n\n3.Matplotlib\n\n4.Seaborn\n\n5.Scipy",
      "metadata": {}
    },
    {
      "cell_type": "markdown",
      "source": "|Data Science Tools|\n|:---------:       |\n| RStudio          |            \n| Apache Spark     |\n| Tensor Flow      |\n| RapidMiner       |",
      "metadata": {}
    },
    {
      "cell_type": "markdown",
      "source": "###Below are a few examples of evaluating arithmetic expressions in Python",
      "metadata": {}
    },
    {
      "cell_type": "code",
      "source": "#this is a simplle arithmectic expression to multiply then add numbers\na=(3*4)+5\n\n",
      "metadata": {
        "scrolled": true,
        "trusted": true
      },
      "execution_count": null,
      "outputs": []
    },
    {
      "cell_type": "code",
      "source": "a=200/60\n# This will convert 200 minutes to hours by diving by 60\nprint(a)\n",
      "metadata": {
        "trusted": true
      },
      "execution_count": null,
      "outputs": []
    },
    {
      "cell_type": "markdown",
      "source": "**Objectives:**",
      "metadata": {}
    },
    {
      "cell_type": "markdown",
      "source": "- Data Science Tools\n- Languages used inn Data Science i.e,Pyhton,R language,SQL\n- Libraries used in Data Science like Pandas,Nupy,Matplotlib,seaborn etc...\n- About R Studio,Jupyter notebooks,GitHUb\n- Watson Studio",
      "metadata": {}
    },
    {
      "cell_type": "markdown",
      "source": "## Author\nName:Sivaram Sarvesh V",
      "metadata": {}
    }
  ]
}